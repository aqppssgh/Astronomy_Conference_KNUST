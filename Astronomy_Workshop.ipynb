{
 "cells": [
  {
   "cell_type": "markdown",
   "metadata": {},
   "source": [
    "<img width=700px src=\"img/programme.png\" />"
   ]
  },
  {
   "cell_type": "markdown",
   "metadata": {},
   "source": [
    "<center> <h3>notebook by Jeffrey N. A. Aryee (PhD) </h3> </center>"
   ]
  },
  {
   "cell_type": "markdown",
   "metadata": {},
   "source": [
    "# <font size=16 color=\"blue\">PART I</font>"
   ]
  },
  {
   "cell_type": "markdown",
   "metadata": {},
   "source": [
    "<h3> OBJECTIVES: </h3>\n",
    "\n",
    "- Install python on either Windows or Linux <br />\n",
    "- Understand what the various python packages are used for <br />\n",
    "- Know how to install the pyhton pacakges <br />\n",
    "- Understand and use the data types <br />\n",
    "- Understand how to assign variables <br />\n",
    "- Understand arithmetic, comparison and logical operators <br />"
   ]
  },
  {
   "cell_type": "markdown",
   "metadata": {},
   "source": [
    "<hr />\n",
    "\n",
    "Python (programming language) Python is an interpreted, high-level, general-purpose programming language. It was created by Guido van Rossum and first released in 1991, Python's design philosophy emphasizes code readability with its notable use of significant whitespace. It is very beginner friendly and the syntax is extremely simple to read and follow through. As python is object-oriented, it has its own garbage collector whereas in C user has to manage memory on his own. Python can be integrated with other languages such as C, C++, and Java. This means that a programmer can take advantage of work already done in another language while using Python.\n",
    "\n",
    "The advantages of Python programming include:\n",
    "\n",
    "•\tPython is powerful\n",
    "\n",
    "•\tPython is easy to learn and use\n",
    "\n",
    "•\tPython is free and open-source language\n",
    "\n",
    "•\tPython runs everywhere\n",
    "\n",
    "•\tPython is object-oriented\n",
    "\n",
    "•\tPython has a strong community"
   ]
  },
  {
   "cell_type": "markdown",
   "metadata": {},
   "source": [
    "<hr />\n",
    "\n",
    "<h2> I. INSTALLATION OF PYTHON</h2>\n",
    "\n",
    "Installing Python on Windows is a slightly longer process when compared to installing Python on Linux. In Linux, it is as easy as running a command and having it set up. With Windows, it takes a slightly different route. \n",
    "\n",
    "**Steps:**\n",
    "1.\tVisit Anaconda.com/downloads\n",
    "\n",
    "Go to the following link: Anaconda.com/downloads\n",
    "    \n",
    "2.\tSelect Windows\n",
    "\n",
    "Select Windows where the three operating systems are listed.\n",
    "\n",
    "3.\tDownload the .exe installer\n",
    "\n",
    "Download the most recent Python 3 release. For problem solvers, select the Python 3.6 version. If you are unsure if your computer is running a 64-bit or 32-bit version of Windows, select 64-bit as 64-bit Windows is most common.\n",
    "\n",
    "4.\tOpen and run the .exe installer\n",
    "\n",
    "Once the download completes, open and run the .exe installer\n",
    "\n",
    "5.\tOpen the Anaconda Prompt and run some Python code\n",
    "\n",
    "After the installation of Anaconda is complete, you can go to the Windows start menu and select the Anaconda Prompt.\n"
   ]
  },
  {
   "cell_type": "markdown",
   "metadata": {},
   "source": [
    "# 2. Comments"
   ]
  },
  {
   "cell_type": "code",
   "execution_count": 1,
   "metadata": {},
   "outputs": [],
   "source": [
    "# This is a single line comment."
   ]
  },
  {
   "cell_type": "code",
   "execution_count": 2,
   "metadata": {},
   "outputs": [
    {
     "data": {
      "text/plain": [
       "'\\nMultiple \\nLine \\nComments\\n'"
      ]
     },
     "execution_count": 2,
     "metadata": {},
     "output_type": "execute_result"
    }
   ],
   "source": [
    "\"\"\"\n",
    "Multiple \n",
    "Line \n",
    "Comments\n",
    "\"\"\""
   ]
  },
  {
   "cell_type": "markdown",
   "metadata": {},
   "source": [
    "<H1> 3. VARIABLES, OPERATORS AND EXPRESSIONS</H1>\n",
    "\n",
    "A Python variable is a reserved memory location to store values. In other words, a variable in a python program gives data to the computer for processing.\n",
    "\n",
    "\n",
    "\n",
    "\n",
    "### VARIABLE NAMING RULES IN PYTHON\n",
    "\n",
    "1. Variable name should start with letter(a-z, A-Z) or underscore (_).  \n",
    "Valid : age , _age , Age  Invalid : 2age, age$\n",
    "\n",
    "2. In variable name, no special characters allowed other than underscore (_). \n",
    "\n",
    "    Valid: age_ , _age  Invalid : age_* \n",
    "\n",
    "3. Variables are case sensitive. \"age\" , \"AGE\" and \"Age\" are different, since variable names are case sensitive. \n",
    "\n",
    "4. Variable name can have numbers but not at the beginning. \n",
    "    Valid: Age1  Invalid: 2pac\n",
    "\n",
    "5. Variable name should not be a Python keyword.Keywords are also called as reserved words. Example pass, break, continue.. etc are reserved for special meaning in Python. So, we should not declare keyword as a variable name."
   ]
  },
  {
   "cell_type": "markdown",
   "metadata": {},
   "source": [
    "### VARIABLE TYPES\n",
    "\n",
    "There are many different types of variables in Python. The two broad divisions in these types are:\n",
    "1. numeric types \n",
    "2. sequence types.\n",
    "\n",
    "#### NUMERIC TYPES OF VARIABLES\n",
    "A. **INTEGER**\n",
    "\n",
    "Integers are positive and negative whole numbers, non-decimal digits. 42, 3 and 2,345,985,384 are examples of integers.\n",
    "\n",
    "B. **FLOAT**\n",
    "\n",
    "The \"floating point\" type is a number containing a decimal point. 2.718 and 31.4159 are all floating point numbers. Floats require more memory to store than do integers, and they are generally slower in calculations.\n",
    "\n",
    "C. **COMPLEX**\n",
    "\n",
    "Complex numbers are built-in in Python, which uses j= $\\sqrt{-1}$. It is perfectly legal to say x = 0.5 + 1.2j in Python, and it does complex\n",
    "arithmetic correctly."
   ]
  },
  {
   "cell_type": "code",
   "execution_count": 3,
   "metadata": {},
   "outputs": [],
   "source": [
    "type(2)"
   ]
  },
  {
   "cell_type": "code",
   "execution_count": 4,
   "metadata": {},
   "outputs": [],
   "source": [
    "type(-2.0)"
   ]
  },
  {
   "cell_type": "code",
   "execution_count": 5,
   "metadata": {},
   "outputs": [],
   "source": [
    "type(-2+3j)"
   ]
  },
  {
   "cell_type": "markdown",
   "metadata": {},
   "source": [
    "#### SEQUENCE TYPES OF VARIABLES\n",
    "In Python, sequence types are collections of things that are referred to by a single variable name. Individual elements in the sequence are separated by commas and referred to by an index after the sequence name in square brackets."
   ]
  },
  {
   "cell_type": "markdown",
   "metadata": {},
   "source": [
    "A. **TUPLE**\n",
    "\n",
    "A tuple is a data structure that stores an ordered sequence of values.  They are indicated by parentheses (). Tuples can include any form of data, including other tuples. Tuples are immutable, which means that their contents cannot change once defined."
   ]
  },
  {
   "cell_type": "code",
   "execution_count": 6,
   "id": "e01d8d03-bd52-4c01-bbc4-4d288c629107",
   "metadata": {},
   "outputs": [],
   "source": [
    "s = (1, 2, 3)\n",
    "print(type(s))"
   ]
  },
  {
   "cell_type": "code",
   "execution_count": 7,
   "id": "572b291f-f308-48e1-9833-4b785b1e1626",
   "metadata": {
    "tags": []
   },
   "outputs": [],
   "source": [
    "a = (3, 4, 'x', [1, 2])\n",
    "\n",
    "print(type(a))"
   ]
  },
  {
   "cell_type": "markdown",
   "id": "9226b74e-9ea7-4882-9d3a-666648aa68e7",
   "metadata": {},
   "source": [
    "B. **LIST**\n",
    "\n",
    "Lists are indicated by square brackets [ ]. Lists are similar to tuples, except they are mutable, meaning that individual elements in a list can be altered. Any other data type, including other lists, can be included in a list.\n"
   ]
  },
  {
   "cell_type": "code",
   "execution_count": 8,
   "id": "848140a3-3ccd-43f4-9499-a012fa733040",
   "metadata": {},
   "outputs": [],
   "source": [
    "#list of integers\n",
    "my_list = [1, 2, 3]\n",
    "\n",
    "#empty list\n",
    "my_list = []\n",
    "\n",
    "#list with mixed data types\n",
    "my_list = [1, \"Hello\", 3.4]\n",
    "\n",
    "#nested list\n",
    "my_list = [\"mouse\", [8, 4, 6], ['a']]"
   ]
  },
  {
   "cell_type": "code",
   "execution_count": 9,
   "metadata": {},
   "outputs": [],
   "source": [
    "type( [] )"
   ]
  },
  {
   "cell_type": "markdown",
   "id": "571eb678-2be8-4cdf-8acb-afba9ee847f8",
   "metadata": {},
   "source": [
    "C. **STRING**\n",
    "\n",
    "A string is a sequence of characters. Strings are delimited by either single or double quotes: \" \" or ' '. Strings, like tuples, are immutable. Strings, unlike lists and tuples, may only contain characters.\n",
    "Strings also contain certain special characters. Use \"\\t\" to denote a tab> character. Use \"\\n\" for a newline character. In Python, the # character denotes a comment, thus if you type # in a string, the Python interpreter will disregard the remainder of the text."
   ]
  },
  {
   "cell_type": "code",
   "execution_count": 10,
   "id": "ae820bd8-b55d-4176-a450-c743f5744189",
   "metadata": {},
   "outputs": [],
   "source": [
    "#defining strings in Python\n",
    "my_string = 'Hello'\n",
    "print(my_string)\n",
    "\n",
    "my_string = \"Hello\"\n",
    "print(my_string)\n",
    "\n",
    "my_string = '''Hello'''\n",
    "print(my_string)\n",
    "\n",
    "# triple quotes string can extend multiple lines\n",
    "my_string = \"\"\"Hello, welcome to\n",
    "           the world of Python\n",
    "             its pretty exciting\"\"\"\n",
    "print(my_string)"
   ]
  },
  {
   "cell_type": "code",
   "execution_count": 11,
   "id": "52460698-d885-4596-99f5-0a3a20843e69",
   "metadata": {},
   "outputs": [],
   "source": [
    "''' String Attributes to text\n",
    "Try your hands on them and also any thing that comes to mind (in the context of strings)\n",
    "'''\n",
    "print(type('Hello '))\n",
    "print(len('Hello '))\n",
    "print('Hello '+'World!!!')\n",
    "print('Hello \\nWorld')\n",
    "print('Hello \\tWorld')\n",
    "print(' ')\n",
    "print('Hello World!!! '*10)\n",
    "print('Hello \" World')\n",
    "print(\"Hello ' World\")\n",
    "print(\"Hello \\' World\")\n",
    "print(\"Hello \\\" World\")\n",
    "print('''Hello \" World. This string has a double quote embedded in.''')"
   ]
  },
  {
   "cell_type": "markdown",
   "id": "c8a86595-77ef-45bd-ad01-aa129ee68a88",
   "metadata": {},
   "source": [
    "D. **DICTIONARY**\n",
    "\n",
    "Curly brackets are used to signify dictionaries: {}. They vary from the other Python built-in sequence types in that they employ \"keys,\" which are string labels, instead of numeric indices. While the values can be of any data type and can repeat, keys must be of immutable type (string, number or tuple with immutable elements) and must be unique."
   ]
  },
  {
   "cell_type": "code",
   "execution_count": 12,
   "id": "c7649ea6-cbbd-41bb-9023-1e4f7b35353c",
   "metadata": {
    "tags": []
   },
   "outputs": [],
   "source": [
    "#empty dictionary\n",
    "my_dict = {}\n",
    "\n",
    "#dictionary with integer keys\n",
    "my_dict = {1: 'apple', 2: 'ball'}\n",
    "\n",
    "#dictionary with mixed keys\n",
    "my_dict = {'name': 'John', 1: [2, 4, 3]}\n",
    "\n",
    "#using dict()\n",
    "my_dict = dict({1:'apple', 2:'ball'})\n",
    "\n",
    "#from sequence having each item as a pair\n",
    "my_dict = dict([(1,'apple'), (2,'ball')])"
   ]
  },
  {
   "cell_type": "markdown",
   "id": "a6c635eb-1b71-4a15-828e-d4e8b0be75dd",
   "metadata": {},
   "source": [
    "<h4> ASSIGNING VARIABLES"
   ]
  },
  {
   "cell_type": "markdown",
   "id": "c92cf81c-f365-4d55-a033-191bf13afe87",
   "metadata": {
    "tags": []
   },
   "source": [
    "Python allows assigning a single value to several variables simultaneously with “=” operators. "
   ]
  },
  {
   "cell_type": "code",
   "execution_count": 13,
   "id": "8aa8b9a8-1e8a-430f-999e-7794adb87359",
   "metadata": {},
   "outputs": [],
   "source": [
    "# An integer assignment\n",
    "age = 45\n",
    "  \n",
    "# A floating point\n",
    "salary = 1456.8\n",
    "  \n",
    "# A string\n",
    "name = \"John\"\n",
    "  \n",
    "print(age)\n",
    "print(salary)\n",
    "print(name)"
   ]
  },
  {
   "cell_type": "code",
   "execution_count": 14,
   "id": "70c952fc-cc2f-40b6-8dc8-b7665d3bfa48",
   "metadata": {},
   "outputs": [],
   "source": [
    "#Assigning a single value to multiple variables\n",
    "a = b = c = 10\n",
    "  \n",
    "print(a)\n",
    "print(b)\n",
    "print(c)"
   ]
  },
  {
   "cell_type": "code",
   "execution_count": 15,
   "id": "4a947158-559b-4065-9f5d-b2fc777fdcfb",
   "metadata": {},
   "outputs": [],
   "source": [
    "#Assigning different values to multiple variables\n",
    "a, b, c = 1, 20.2, \"Physics\"\n",
    "  \n",
    "print(a)\n",
    "print(b)\n",
    "print(c)"
   ]
  },
  {
   "cell_type": "code",
   "execution_count": 16,
   "id": "d8fe630d-2c7b-4776-833d-b3f8f5930ce7",
   "metadata": {},
   "outputs": [],
   "source": [
    "#String variables can be declared either by using single or double quotes\n",
    "x = \"John\"\n",
    "# is the same as\n",
    "x = 'John'\n",
    "print(x)"
   ]
  },
  {
   "cell_type": "markdown",
   "id": "0036f53c-b274-4c92-9eca-03556091fe4d",
   "metadata": {},
   "source": [
    "<H2> OPERATORS"
   ]
  },
  {
   "cell_type": "markdown",
   "id": "784cd713-a1a2-453f-823b-fd6b5ef97af9",
   "metadata": {},
   "source": [
    "Operators are special symbols in Python that carry out arithmetic or logical computation. The value that the operator operates on is called the operand.\n",
    "\n",
    "TYPES OF OPERATORS\n",
    "1. Arithmetic\n",
    "2. Comparison\n",
    "3. Logical\n"
   ]
  },
  {
   "cell_type": "markdown",
   "id": "67825b64-2a6b-4ba6-bf62-4df0e61b35f3",
   "metadata": {},
   "source": [
    "<h3> ARITHMETIC OPERATORS</h3>\n",
    "\n",
    "<img src=\"img/arithmetic.jpg\" />"
   ]
  },
  {
   "cell_type": "code",
   "execution_count": 17,
   "id": "a2deb0c7-7159-4973-b3be-49554039aa57",
   "metadata": {},
   "outputs": [],
   "source": [
    "print(2+1.)\n",
    "print(19/4)\n",
    "print(19//4)\n",
    "print(19%4)"
   ]
  },
  {
   "cell_type": "markdown",
   "id": "0e7ddd0a-8c8d-43ad-9557-f81ea3841d52",
   "metadata": {},
   "source": [
    "<img width=400px align=\"right\" src=\"img/comparison.jpg\" />\n",
    "<h3> COMPARISON OPERATORS</h3>\n",
    "Comparison operators are used to compare values. It returns either True or False according to the condition."
   ]
  },
  {
   "cell_type": "code",
   "execution_count": 18,
   "id": "1ef6554d-7e1f-4c36-a50f-27eceed3d2ff",
   "metadata": {},
   "outputs": [],
   "source": [
    "#Examples\n",
    "a = 9\n",
    "b = 5\n",
    "\n",
    "print(a > b) \n",
    "#returns True if the left operand is greater than the right operand.\n",
    "\n",
    "print(a != b) \n",
    "#returns True if the left operand is not equal to the right operand.\n",
    "\n",
    "print(a == b) \n",
    "#returns True if the left operand is equal to the right operand."
   ]
  },
  {
   "cell_type": "markdown",
   "id": "4b57a3ee-d812-4904-9a4f-29c64b560fc5",
   "metadata": {},
   "source": [
    "<h3> LOGICAL OPERATORS</h3>\n",
    "    \n",
    "<img width=400px align=\"right\" src=\"img/logical.png\" />\n",
    "Boolean expressions can be combined with logical operators and used in an if construct. There are three logical operators; the and, or, not operators.\n"
   ]
  },
  {
   "cell_type": "code",
   "execution_count": 19,
   "id": "51833ce1-f78d-473b-a235-940fb5e011f8",
   "metadata": {},
   "outputs": [],
   "source": [
    "#Examples\n",
    "x = 5\n",
    "\n",
    "print(x > 3 and x < 10)\n",
    "\n",
    "# returns True because 5 is greater than 3 AND 5 is less than 10\n",
    "\n",
    "\n",
    "x = 5\n",
    "\n",
    "print(x > 3 or x < 4)\n",
    "\n",
    "# returns True because one of the conditions are true (5 is greater than 3, but 5 is not less than 4)\n",
    "\n",
    "\n",
    "x = 5\n",
    "\n",
    "print(not(x > 3 and x < 10))\n",
    "\n",
    "# returns False because not is used to reverse the result\n"
   ]
  },
  {
   "cell_type": "markdown",
   "id": "590250dd-6c49-40fe-8e57-09d7b0036e0f",
   "metadata": {},
   "source": [
    "# 4. CONTROL STRUCTURES"
   ]
  },
  {
   "cell_type": "markdown",
   "id": "f1e12965-dbec-4d30-93e1-07e432290f61",
   "metadata": {},
   "source": [
    "Control statements allow a computer to perform different actions based on what happens. “If you are hungry, eat lunch\" is a control statement of sorts. control statements in a computer language are a bit more specific than that, but they have the same basic structure. In a computer language, control statements are a little more specific, but they all have the same basic structure.. There is the statement itself: “if\". There is the “conditional\", which is a statement that evaluates to either true or false."
   ]
  },
  {
   "cell_type": "markdown",
   "id": "77b311ac-75ff-4feb-abea-ae0da18facb5",
   "metadata": {},
   "source": [
    "<H3> CONDITIONAL STATEMENT"
   ]
  },
  {
   "cell_type": "markdown",
   "id": "2865bab1-505d-424a-9cca-e7788c808f98",
   "metadata": {},
   "source": [
    "A conditional is anything that can be evaluated as either true or false. Conditional statement consist of a test and one or more actions to be executed. The action in these action statement execute when the test evalutes to be True. However, in Python every value can be interpreted as a boolean value, regardless of its data type. i.e., when you test a condition, and your test is of a value that is not True or False, it will still be interpreted as either True or False."
   ]
  },
  {
   "cell_type": "markdown",
   "id": "11a706bd-72a2-44f4-925d-4cb044d9f15e",
   "metadata": {},
   "source": [
    "Decision making is anticipation of conditions occurring while execution of the program and specifying actions taken according to the conditions. Decision structures evaluate multiple expressions which produce TRUE or FALSE as outcome. You need to determine which action to take or which statements to execute if outcome is TRUE or FALSE otherwise.\n",
    "\n",
    "The advantages of Python programming spans, but is not limited to the following:\n",
    "\n",
    "   * If statements (One way Decision)\n",
    "   * If ....else statements (Two way decision & Multiple decision)\n",
    "   *  Nested If statement\n"
   ]
  },
  {
   "cell_type": "markdown",
   "id": "bfdfd0c5-dd54-48aa-bc30-e91b1fd0107d",
   "metadata": {},
   "source": [
    "<H3> IF STATEMENTS (ONE WAY DECISION)"
   ]
  },
  {
   "cell_type": "code",
   "execution_count": 20,
   "id": "9079331a-2327-4eb9-9082-41574979ed77",
   "metadata": {},
   "outputs": [],
   "source": [
    "# Examples\n",
    "x = 5\n",
    "if x == 5:                 \n",
    "    print( \"x equals 5\" )\n",
    "if x > 4:\n",
    "    print( \"x is greater than 4\" )\n",
    "if x >= 5:\n",
    "    print( \"x is greater than or equal to 5\" )\n",
    "if x < 6:\n",
    "    print( \"x is less than 6\" )\n",
    "if x <= 5:\n",
    "    print( \"x is less than or equal to 5\" )\n",
    "if x != 6 :\n",
    "    print( \"x does not equal 6\" )"
   ]
  },
  {
   "cell_type": "markdown",
   "id": "036cc9f5-0e6b-41e1-b932-ef8a9b03a689",
   "metadata": {},
   "source": [
    "<H3> NESTED IF STATEMENTS"
   ]
  },
  {
   "cell_type": "code",
   "execution_count": 21,
   "id": "5d0e838a-e90e-4ee0-b511-5b30e05b647c",
   "metadata": {},
   "outputs": [],
   "source": [
    "grade = 100\n",
    "if grade > 60:\n",
    "    print(\"\\tStudent scored a passing grade\")\n",
    "    if grade >= 90:\n",
    "        print(\"\\tpassed with A\")\n",
    "        if grade >= 96:\n",
    "            print(\"\\tpassed with A+\")"
   ]
  },
  {
   "cell_type": "markdown",
   "id": "ec5d0cb1-ca1d-48e0-85d2-cd3c2863e2d9",
   "metadata": {},
   "source": [
    "<H4> INDENTATION"
   ]
  },
  {
   "cell_type": "markdown",
   "id": "484f2727-b53b-4429-8c2c-197969ed7b75",
   "metadata": {},
   "source": [
    "Python relies on indentation (whitespace at the beginning of a line) to define scope in the code. Other programming languages often use curly-brackets for this purpose. "
   ]
  },
  {
   "cell_type": "markdown",
   "id": "0dafe9d0-0acc-40a2-babe-efbb7b3a286f",
   "metadata": {
    "tags": []
   },
   "source": [
    "If statement, without indentation (will raise an error):"
   ]
  },
  {
   "cell_type": "code",
   "execution_count": 22,
   "id": "77008581-1387-4566-988d-efe0b5e50445",
   "metadata": {},
   "outputs": [],
   "source": [
    "#Example:\n",
    "a = 33\n",
    "b = 200\n",
    "if b > a:\n",
    "print(\"b is greater than a\") # you will get an error"
   ]
  },
  {
   "cell_type": "markdown",
   "id": "e781983e-9a1a-42d4-82d0-9d5b5f07e39c",
   "metadata": {},
   "source": [
    "<H3> IF . . . ELIF . . . ELSE"
   ]
  },
  {
   "cell_type": "markdown",
   "id": "cf8bdd91-33cd-4d20-aff3-b31bcd7f7714",
   "metadata": {},
   "source": [
    "The most basic control statement in Python, or any other computer language, is the if statement. It allows you to tell the computer what to do if some condition is met. The elif and else keywords extend the if statement even further. elif , short for \"else if\" adds another if that is tested only if the first if is false. else is done if none of the previous elif statements, or the initial if , are true.\n",
    "The syntax is as follows:"
   ]
  },
  {
   "cell_type": "code",
   "execution_count": 23,
   "id": "95890c5d-642c-484a-bb2b-6a6d0859f133",
   "metadata": {},
   "outputs": [],
   "source": [
    "if x>10:\n",
    "    print(\"Your number is greater than ten.\")\n",
    "elif x>9:\n",
    "    print(\"Your number is OK, but you’re cutting it close.\")\n",
    "else:\n",
    "    print(\"Your number is fine. Move along.\")"
   ]
  },
  {
   "cell_type": "markdown",
   "id": "ae280a00-dc1a-4e75-af7c-92e3daa61930",
   "metadata": {},
   "source": [
    "# LOOPS"
   ]
  },
  {
   "cell_type": "markdown",
   "id": "5b9b8b7d-761a-48a9-bc2f-490abd2fedf5",
   "metadata": {},
   "source": [
    "Humans hate too much repetition. Therefore, repetitious tasks should be performed by computers. All programming languages support repetitions. The general class of programming constructs that allow the definition of repetitions are called \"iterations.” A term which is even more common for such tasks is “loops.” In general, statements are executed sequentially. Programming languages provide various control structures that allow for more complicated execution paths. A loop statement allows us to execute a statement or group of statements multiple times.\n",
    "\n",
    "Types of loops :\n",
    "\n",
    "   * While Loop\n",
    "   * For Loop\n",
    "   * Nested Loop\n"
   ]
  },
  {
   "cell_type": "markdown",
   "id": "f5891f56-dc18-4f10-827a-008119a6dcef",
   "metadata": {},
   "source": [
    "<H3> WHILE LOOPS"
   ]
  },
  {
   "cell_type": "markdown",
   "id": "711a1c2d-d149-4aaf-b0d3-93abd91da0cb",
   "metadata": {},
   "source": [
    "<img align=\"right\" width=450px src=\"img/while_loop.jpg\" />\n",
    "A statement or group of statement in a while loop execute if the condition of the loop is True and stops if the condition no longer True. The condition is tested before the loop body executes. The while statement is used to repeat a block of commands until a condition\n",
    "is met."
   ]
  },
  {
   "cell_type": "markdown",
   "id": "cc406f38-ab65-44d6-aa61-6825d33a4c28",
   "metadata": {},
   "source": [
    "<H4> SYNTAX"
   ]
  },
  {
   "cell_type": "code",
   "execution_count": 24,
   "id": "e49af448-50c3-42a4-ab74-7b06e44f62ca",
   "metadata": {},
   "outputs": [],
   "source": [
    "# while < expression>:\n",
    "#       <statement(s)>\n",
    "\n",
    "x = 1\n",
    "while x < 6:\n",
    "    print(x)\n",
    "    x = x + 1"
   ]
  },
  {
   "cell_type": "markdown",
   "id": "49440e96-4896-47a6-b8ce-1cf7f1a7376c",
   "metadata": {},
   "source": [
    "<H3> FOR LOOPS"
   ]
  },
  {
   "cell_type": "markdown",
   "id": "d5e6d8ac-4b00-4f8a-ac43-f0450d179482",
   "metadata": {},
   "source": [
    "<img align = 'right' width=450px src=\"img/loops_image.png\" />\n",
    "The for loop iterates over items in a sequence, repeating the loop block once\n",
    "per item. The Nature of For Loops. When data are collected in a list, we often want to perform the same operations on each element in the list. We then need to walk through all list elements. Computer languages have a special construct for doing this conveniently, and this construct is in Python and many other languages called a for loop. Here is an example:"
   ]
  },
  {
   "cell_type": "code",
   "execution_count": 25,
   "id": "280178d4-76a8-44ab-9821-2c9a18e964b0",
   "metadata": {},
   "outputs": [],
   "source": [
    "word = 'oxygen'\n",
    "for i in word:\n",
    "    print(i)"
   ]
  },
  {
   "cell_type": "code",
   "execution_count": 26,
   "id": "b868308a-31b0-416e-9b6f-b6579eeabe94",
   "metadata": {},
   "outputs": [],
   "source": [
    "for x in [1,2,3,4,5]:\n",
    "    print(x, x**2, x**3)"
   ]
  },
  {
   "cell_type": "markdown",
   "id": "b3a1ded2-8a44-4a00-af70-73fb9ae43c2d",
   "metadata": {},
   "source": [
    "# 5. FUNCTIONS"
   ]
  },
  {
   "cell_type": "markdown",
   "id": "a68bdecb-d25b-4283-81c1-28c03d6676be",
   "metadata": {},
   "source": [
    "A function in programming it refers to a named sequence of operations that perform a computation. The goal of functions is to reduce the lines of code, and also to limit re-doing of same task over and over again. A function might be a bit of mathematical calculation, such as sin () or sqrt (). Functions allow us to group a number of statements into a logical block. Functions helps to simplify recursive, repetitive tasks.\n",
    "\n",
    "### IMPORTANCE OF FUNCTIONS\n",
    "\n",
    "* Reduces the size of your code.\n",
    "\n",
    "* Saves typing and makes it easier to change the program later.\n",
    "\n",
    "* Makes the code clearer and readable.\n",
    "\n",
    "* Makes codes more manageable.\n",
    "\n",
    "## SYNTAX\n",
    "\n",
    "Functions are defined with the def command. On the first line, the first item is to specify def (for defining functions), followed by the function_name(). The function name must start with a letter, and may contain letters, numbers, and the underscore character just like any other Python variable name. The parenthesis are necessary since every functions relies on arguments, hence the parenthesis holds all dependent arguments (a list of variables that should be passed to the function). The def line should end with a colon, and the indented block after the def should contain the function code. \n",
    "See the Python 3 function syntax below:\n"
   ]
  },
  {
   "cell_type": "raw",
   "metadata": {},
   "source": [
    "def function_name (arg1, arg2 ...,argn):\n",
    "    statements\n",
    "    return"
   ]
  },
  {
   "cell_type": "markdown",
   "id": "b6e9fe5f-0692-40a2-b6cc-d7226dbed198",
   "metadata": {},
   "source": [
    "The variables *arg1*, *arg2*, *argn* are the parameters needed for the execution of the function's *statements*\n",
    "To pass output from the function into the console, main_program, etc., it's advisable to use the return statement, which is acceptable way for function outputs.\n",
    "To invoke the function, you call the function_name on the actual input values, and each input value must denote a defined dummy argument.\n",
    "\n",
    "Example:"
   ]
  },
  {
   "cell_type": "code",
   "execution_count": 27,
   "id": "03698a77-15cb-41cc-99ea-1684fcae4c12",
   "metadata": {},
   "outputs": [],
   "source": [
    "def sum_of_nums(a,b):\n",
    "    c=a+b\n",
    "    return c"
   ]
  },
  {
   "cell_type": "code",
   "execution_count": 28,
   "metadata": {},
   "outputs": [],
   "source": [
    "print(sum_of_nums(2,3) )\n",
    "print(sum_of_nums(30,20) )"
   ]
  },
  {
   "cell_type": "code",
   "execution_count": 29,
   "metadata": {},
   "outputs": [],
   "source": [
    "# print(sum_of_nums(1,2,3) )\n",
    "\n",
    "# This produces an error since the entry/actual arguments exceed the required arguments."
   ]
  },
  {
   "cell_type": "code",
   "execution_count": 30,
   "metadata": {},
   "outputs": [],
   "source": [
    "def print_message(day):\n",
    "    messages = {\n",
    "        \"monday\": \"Hello, world!\",\n",
    "        \"tuesday\": \"Today is tuesday!\",\n",
    "        \"wednesday\": \"It is the middle of the week.\",\n",
    "        \"thursday\": \"Today is Donnerstag in German!\",\n",
    "        \"friday\": \"Last day of the week!\",\n",
    "        \"saturday\": \"Hooray for the weekend!\",\n",
    "        \"sunday\": \"Aw, the weekend is almost over.\"\n",
    "    }\n",
    "    return messages[day.lower()]"
   ]
  },
  {
   "cell_type": "code",
   "execution_count": 31,
   "metadata": {},
   "outputs": [],
   "source": [
    "print_message('MonDay')"
   ]
  },
  {
   "cell_type": "raw",
   "metadata": {},
   "source": []
  },
  {
   "cell_type": "markdown",
   "metadata": {},
   "source": [
    "# <font color=\"blue\">Part II</font>"
   ]
  },
  {
   "cell_type": "markdown",
   "id": "ad3977db-17b0-40d7-aa82-24b74ef6e2ff",
   "metadata": {},
   "source": [
    "<H2> PYTHON PACKAGES"
   ]
  },
  {
   "cell_type": "markdown",
   "id": "c63bc3bf-2a0a-4086-827b-7b10ae234ee3",
   "metadata": {},
   "source": [
    "For practically every task, Python has a library. With the advancement of technology, libraries are now readily available and may be imported into the Python terminal for use. Some of these libraries include numpy, scipy, matplotlib, pandas, astropy, netCDF4, xarray, and seaborn, just to mention a few."
   ]
  },
  {
   "cell_type": "markdown",
   "id": "7fd0dd27-0886-4ce4-b1f3-45179db6701c",
   "metadata": {},
   "source": [
    "**NOTE**:To be able to use the python packages, the **import statement** is used. The import statement combines two operations; it searches for the named module, then it binds the results of that search to a name in the local scope. The search operation of the import statement is defined as a call to the __import__() function, with the appropriate arguments."
   ]
  },
  {
   "cell_type": "code",
   "execution_count": 32,
   "id": "930454cb-b92b-4338-9541-fb6a3741fc00",
   "metadata": {},
   "outputs": [],
   "source": [
    "import numpy as np\n",
    "import scipy as sp\n",
    "import matplotlib.pyplot as plt"
   ]
  },
  {
   "cell_type": "markdown",
   "id": "3e2c88b4-d091-4d9e-9cdc-690992f35dd4",
   "metadata": {},
   "source": [
    "<h3> NUMPY"
   ]
  },
  {
   "cell_type": "markdown",
   "id": "6ca80716-ec0c-4c5e-b5a4-5a31bf02a9a0",
   "metadata": {},
   "source": [
    "Numpy stands for \"Numerical Python\".  It's a Python library that incorporates a multidimensional array object, derived objects (such as masked arrays and matrices), and a variety of routines for performing fast array operations, such as mathematical, logical, shape manipulation, sorting, selecting, basic linear algebra, basic statistical operations, random simulation, and more.\n",
    "\n",
    "Numpy is well-documented on https://numpy.org/doc/stable/ and in the MIT numpy-book: https://web.mit.edu/dvp/Public/numpybook.pdf"
   ]
  },
  {
   "cell_type": "code",
   "execution_count": 33,
   "metadata": {},
   "outputs": [],
   "source": [
    "###Try out your hands on some numpy functions\n",
    "import numpy as np\n",
    "print(np.sum([2,3]))"
   ]
  },
  {
   "cell_type": "code",
   "execution_count": 34,
   "metadata": {},
   "outputs": [],
   "source": [
    "print(np.max([3,1,6,-20,8,7,0,-5,2,3]))   #### Print the maximum value in an array\n",
    "print(np.argmax([3,1,6,-20,8,7,0,-5,2,3]))   #### Print the position of the maximum value in an array (Remember python array indexing starts from 0)"
   ]
  },
  {
   "cell_type": "code",
   "execution_count": 35,
   "id": "c2dbd9b8-7528-413b-8668-9c2db98c6ed1",
   "metadata": {},
   "outputs": [],
   "source": [
    "print(np.sort([3,1,6,-20,8,7,0,-5,2,3]))   #### Arrange the array from least to greatest value.\n",
    "print(np.min([3,1,6,-20,8,7,0,-5,2,3]))   #### Print the minimum value in an array\n",
    "print(np.arange(5))                       ### Create a range of values from 0 to n-1, which is 4 in this example.\n",
    "###np.arange by default has the syntax, np.arange(start,end,step). Default start (if unstated) is 0, and default step is 1.\n",
    "\n",
    "print(np.abs(-8))                                ### Prints out the absolute value of the given variable"
   ]
  },
  {
   "cell_type": "markdown",
   "id": "46a12e7f-0d34-4519-9484-368ed97c2620",
   "metadata": {},
   "source": [
    "<H3> SCIPY"
   ]
  },
  {
   "cell_type": "markdown",
   "id": "463d3fb1-6187-4798-bae4-68f5e18a2477",
   "metadata": {},
   "source": [
    "Scipy is for “Scientific Python” is used for scientific actions and calls. Scipy works almost similar to numpy, however with some scientific operational enhancements."
   ]
  },
  {
   "cell_type": "code",
   "execution_count": 36,
   "id": "12ee2b8c-5490-4352-b389-c7ba6db3318a",
   "metadata": {},
   "outputs": [],
   "source": [
    "###Try out your hands on some numpy functions\n",
    "import scipy as sp\n",
    "\n",
    "sp.constants.astronomical_unit     # Astronomical unit in meters"
   ]
  },
  {
   "cell_type": "markdown",
   "metadata": {},
   "source": [
    "# Plotting with `matplotlib`\n",
    "\n",
    "The `matplotlib` package contains the `matplotlib.pyplot` module for creating plots - this module is generally imported as `plt` (as you will see below) to avoid having to type out `pyplot` every time.\n",
    "\n",
    "There are two ways if plotting in matplotlib. The first is to call functions that are defined as part of `plt`, for example `plt.plot` to create a figure, `plt.plot` to plot a line, `plt.title` to set the title etc. This approach is however prone to creating issues when you create figures with multiple subplots within them as `plt.set_title` will set the title on the subplot you've most recently created.\n",
    "\n",
    "The second option is create an \"axes\" and then call the relevant plot, title, x-limit function directly on the axes you want to use.\n",
    "\n",
    "\n",
    "`plt.plot` is a module which creates the axes, add additional lines on the same axes, and plt.xlabel, plt.ylabel, plt.title and plt.legend set the axes labels and title and\n",
    "add a legend. Figure supported formats: eps, jpeg, jpg, pdf, pgf, png, ps, raw, rgba, svg, svgz, tif, tiff.\n",
    "\n",
    "\n",
    "https://matplotlib.org/2.0.2/Matplotlib.pdf\n"
   ]
  },
  {
   "cell_type": "code",
   "execution_count": 37,
   "metadata": {},
   "outputs": [],
   "source": [
    "# usually you should put your imports at the top of a notebook, but\n",
    "# we're putting it here so you can see that `matplotplot.pyplot` has\n",
    "# been imported as `plt`\n",
    "import matplotlib.pyplot as plt"
   ]
  },
  {
   "cell_type": "code",
   "execution_count": 38,
   "metadata": {},
   "outputs": [],
   "source": [
    "fig = plt.figure()\n",
    "ax = fig.add_subplot(111)\n",
    "\n",
    "x = np.arange(0,361,5)\n",
    "y = np.sin( np.deg2rad(x) )\n",
    "ax.plot(x, y)\n",
    "ax.set_ylabel(\"sin(x)\", fontsize=16)\n",
    "ax.set_xlabel(\"x\", fontsize=16)"
   ]
  },
  {
   "cell_type": "code",
   "execution_count": 39,
   "metadata": {},
   "outputs": [],
   "source": [
    "# figure with two subplots, adding subplots individually\n",
    "fig = plt.figure(figsize=(8, 4))\n",
    "ax1 = fig.add_subplot(121)\n",
    "ax2 = fig.add_subplot(122)\n",
    "ax1.set_title(\"subplot 1\")\n",
    "ax2.set_title(\"subplot 2\")"
   ]
  },
  {
   "cell_type": "code",
   "execution_count": 40,
   "metadata": {},
   "outputs": [],
   "source": [
    "# figure with two subplots of a specific size\n",
    "fig, axes = plt.subplots(ncols=2, figsize=(8, 4))\n",
    "axes[0].set_title(\"subplot 1\")\n",
    "axes[1].set_title(\"subplot 2\")"
   ]
  },
  {
   "cell_type": "code",
   "execution_count": null,
   "metadata": {},
   "outputs": [],
   "source": []
  },
  {
   "cell_type": "markdown",
   "metadata": {},
   "source": [
    "# <font color=\"blue\">ASTROPY</font>\n",
    "\n",
    "\n",
    "## Learning Goals\n",
    "1. Open FITS files and load image/tabular data\n",
    "2. Integrate with Pandas\n",
    "3. Subsetting FITS data\n",
    "4. Appying some basic statstics\n",
    "5. Visualization\n",
    "6. Stack several images into a single image\n",
    "7. Write data to a FITS file\n",
    "\n",
    "## Companion Content\n",
    "* This link provides a comprehensive description of FITS file usage in this tutorial: [astropy.io.fits](http://docs.astropy.org/en/stable/io/fits/index.html) \n",
    "\n"
   ]
  },
  {
   "cell_type": "markdown",
   "metadata": {},
   "source": [
    "<hr />\n",
    "Astropy is a popular open-source and community-developed Python library designed for astronomy and astrophysics. It provides a wide range of tools, functionalities, and data structures that aid astronomers and researchers in analyzing and working with astronomical data.\n",
    "\n",
    "Astropy offers various modules and functionalities that cover different aspects of astronomy:\n",
    "\n",
    "\n",
    "<b>Coordinates and Time Handling:</b> Astropy allows for easy manipulation and transformation of celestial coordinates (e.g., right ascension and declination) and time representations.\n",
    "\n",
    "<b>Units and Constants:</b> It includes a comprehensive set of physical and astronomical constants, as well as a sophisticated unit system for handling and converting different units of measurements.\n",
    "\n",
    "<b>FITS File Handling:</b> Astropy provides tools to read, write, and manipulate data stored in FITS (Flexible Image Transport System) files, a commonly used format in astronomy for storing scientific data and images.\n",
    "\n",
    "<b>Cosmology Calculations:</b> It offers functionalities for cosmological calculations, allowing researchers to compute distances, lookback times, and other cosmological quantities.\n",
    "\n",
    "<b>Modeling and Fitting:</b> Astropy includes tools for modeling and fitting data, which is useful for analyzing observational data and fitting theoretical models to it.\n",
    "\n",
    "<b>Photometry and Spectroscopy:</b> It provides tools for photometric and spectroscopic analysis, enabling scientists to work with data obtained from telescopes and instruments.\n",
    "\n",
    "Using Astropy in Python involves installing the library in your Python environment. You can install Astropy using Python package managers like pip or conda. \n",
    "\n",
    "<br /><br />\n",
    "\n",
    "<b>Via pip:</b>"
   ]
  },
  {
   "cell_type": "raw",
   "metadata": {},
   "source": [
    "pip install astropy"
   ]
  },
  {
   "cell_type": "markdown",
   "metadata": {},
   "source": [
    "<b>via conda: </b>"
   ]
  },
  {
   "cell_type": "markdown",
   "metadata": {},
   "source": [
    "conda install astropy"
   ]
  },
  {
   "cell_type": "code",
   "execution_count": null,
   "metadata": {},
   "outputs": [],
   "source": [
    "# Install Astropy\n",
    "!pip install astropy --quiet"
   ]
  },
  {
   "cell_type": "markdown",
   "metadata": {},
   "source": [
    "Once installed, you can import specific modules or functionalities from Astropy and utilize them in your Python scripts or notebooks for various astronomy-related tasks, such as handling celestial coordinates, working with FITS files, performing cosmological calculations, and more.\n",
    "\n",
    "Here's a simple example to demonstrate how you might use the astropy library to calculate the distance between two celestial objects:\n",
    "\n",
    "\n",
    "** Let's calculate the angular separation between two known celestial objects: the Andromeda Galaxy (M31) and the Triangulum Galaxy (M33).**"
   ]
  },
  {
   "cell_type": "code",
   "execution_count": 41,
   "metadata": {},
   "outputs": [],
   "source": [
    "from astropy.coordinates import SkyCoord\n",
    "from astropy import units as u\n",
    "\n",
    "# Coordinates of the Andromeda Galaxy (M31)\n",
    "m31 = SkyCoord.from_name('M31')\n",
    "\n",
    "# Coordinates of the Triangulum Galaxy (M33)\n",
    "m33 = SkyCoord.from_name('M33')\n",
    "\n",
    "# Calculate the angular separation between the two galaxies\n",
    "angular_separation = m31.separation(m33)\n",
    "\n",
    "# Print the result\n",
    "print(f\"The angular separation between M31 and M33 is {angular_separation.deg:.2f} degrees.\")"
   ]
  },
  {
   "cell_type": "code",
   "execution_count": 42,
   "metadata": {},
   "outputs": [],
   "source": [
    "from astropy.coordinates import SkyCoord\n",
    "\n",
    "# Identify and obtain coordinates of galaxies using their common names\n",
    "m31 = SkyCoord.from_name('M31')  # Andromeda Galaxy\n",
    "m33 = SkyCoord.from_name('M33')  # Triangulum Galaxy\n",
    "whirlpool = SkyCoord.from_name('M51')  # Whirlpool Galaxy\n",
    "sombrero = SkyCoord.from_name('M104')  # Sombrero Galaxy\n",
    "\n",
    "# Print the coordinates of the galaxies\n",
    "print(\"Andromeda Galaxy (M31): RA =\", m31.ra, \"Dec =\", m31.dec)\n",
    "print(\"Triangulum Galaxy (M33): RA =\", m33.ra, \"Dec =\", m33.dec)\n",
    "print(\"Whirlpool Galaxy (M51): RA =\", whirlpool.ra, \"Dec =\", whirlpool.dec)\n",
    "print(\"Sombrero Galaxy (M104): RA =\", sombrero.ra, \"Dec =\", sombrero.dec)\n"
   ]
  },
  {
   "cell_type": "markdown",
   "metadata": {},
   "source": [
    "This is just a small example. Astropy offers a rich set of functionalities to perform a wide range of astronomical computations and analysis, making it a powerful tool for astronomers and astrophysicists."
   ]
  },
  {
   "cell_type": "raw",
   "metadata": {},
   "source": []
  },
  {
   "cell_type": "markdown",
   "metadata": {},
   "source": [
    "# What's a FITS file format?\n",
    "A FITS (Flexible Image Transport System) file is a digital file format commonly used in astronomy and astrophysics for storing and transmitting scientific data and images. It was developed specifically for the needs of astronomical data and is widely used to store various types of data, including images, tables, and arrays.\n",
    "\n",
    "FITS files are versatile and efficient, designed to preserve extensive metadata along with the actual data, allowing astronomers and researchers to store details about the observations, instruments used, and the characteristics of the data within the file itself. This makes it particularly valuable for archiving and sharing astronomical data and images.\n",
    "\n",
    "The format is considered \"flexible\" because it can accommodate various types of data structures, and it supports multi-dimensional arrays and complex data types, making it suitable for storing diverse astronomical data collected by telescopes and space missions. FITS files are also open and non-proprietary, meaning the format specifications are publicly available, allowing for universal access and compatibility across different software and platforms used in astronomy and astrophysics research.\n"
   ]
  },
  {
   "cell_type": "code",
   "execution_count": 43,
   "metadata": {},
   "outputs": [],
   "source": [
    "from astropy.utils.data import download_file\n",
    "from os.path import basename, exists\n",
    "fits_file = download_file('https://github.com/AllenDowney/AstronomicalData/raw/main/data/gd1_results.fits', cache=True)"
   ]
  },
  {
   "cell_type": "code",
   "execution_count": 44,
   "metadata": {},
   "outputs": [],
   "source": [
    "from astropy.table import Table\n",
    "\n",
    "\n",
    "results = Table.read(fits_file)"
   ]
  },
  {
   "cell_type": "markdown",
   "metadata": {},
   "source": [
    "The result is an Astropy Table.\n",
    "\n",
    "We can use info to refresh our memory of the contents."
   ]
  },
  {
   "cell_type": "code",
   "execution_count": 45,
   "metadata": {},
   "outputs": [],
   "source": [
    "results"
   ]
  },
  {
   "cell_type": "code",
   "execution_count": 46,
   "metadata": {},
   "outputs": [],
   "source": [
    "results.info()"
   ]
  },
  {
   "cell_type": "markdown",
   "metadata": {},
   "source": [
    "# The Tabular data can be converted to a Pandas DataFrame and analyzed with the Pandas functionalities. "
   ]
  },
  {
   "cell_type": "code",
   "execution_count": 47,
   "metadata": {},
   "outputs": [],
   "source": [
    "results.to_pandas()"
   ]
  },
  {
   "cell_type": "markdown",
   "metadata": {},
   "source": [
    "# Simple Pandas Visualizations"
   ]
  },
  {
   "cell_type": "code",
   "execution_count": 48,
   "metadata": {},
   "outputs": [],
   "source": [
    "# 1D plot of \"Right Ascension\"\n",
    "\n",
    "results.to_pandas()['ra'].plot()"
   ]
  },
  {
   "cell_type": "code",
   "execution_count": 49,
   "metadata": {},
   "outputs": [],
   "source": [
    "fig, axes = plt.subplots(nrows=2, figsize=(6,10))\n",
    "\n",
    "results.to_pandas()['ra'].plot(ax = axes[0])\n",
    "results.to_pandas()['dec'].plot(ax = axes[1])\n"
   ]
  },
  {
   "cell_type": "markdown",
   "metadata": {},
   "source": [
    "# Histogram Plot"
   ]
  },
  {
   "cell_type": "code",
   "execution_count": 50,
   "metadata": {},
   "outputs": [],
   "source": [
    "df = results.to_pandas()\n",
    "var = 'dec'\n",
    "\n",
    "df[var].plot.hist(bins=30, edgecolor='k')\n",
    "plt.axvline(df[var].mean(),color='r',label=\"Mean\")\n",
    "plt.axvline(df[var].mean()+df[var].std(),ls='--',color='r',label=\"+1 STD\")\n",
    "plt.axvline(df[var].mean()-df[var].std(),ls='--',color='r',label=\"-1 STD\")\n",
    "plt.xlabel(var)\n",
    "plt.legend()"
   ]
  },
  {
   "cell_type": "markdown",
   "metadata": {},
   "source": [
    "# Scatter Plot"
   ]
  },
  {
   "cell_type": "code",
   "execution_count": 51,
   "metadata": {},
   "outputs": [],
   "source": [
    "results.to_pandas().plot.scatter(x='ra', y='parallax', s=2, c='k')"
   ]
  },
  {
   "cell_type": "markdown",
   "metadata": {},
   "source": [
    "# A third variable can be used as color map to determine their joint relationship."
   ]
  },
  {
   "cell_type": "code",
   "execution_count": 52,
   "metadata": {},
   "outputs": [],
   "source": [
    "results.to_pandas().plot.scatter(x='ra', y='parallax', s=2, c='dec')"
   ]
  },
  {
   "cell_type": "markdown",
   "metadata": {},
   "source": [
    "# Selecting rows and columns\n",
    "In this section we'll see operations for selecting columns and rows from an Astropy Table. You can find more information about these operations in the Astropy documentation.\n",
    "\n",
    "We can get the names of the columns like this:"
   ]
  },
  {
   "cell_type": "code",
   "execution_count": 53,
   "metadata": {},
   "outputs": [],
   "source": [
    "results.colnames"
   ]
  },
  {
   "cell_type": "markdown",
   "metadata": {},
   "source": [
    "# And select an individual column like this:"
   ]
  },
  {
   "cell_type": "code",
   "execution_count": 54,
   "metadata": {},
   "outputs": [],
   "source": [
    "results['ra']    # The result is a Column object that contains the data, and also the data type, units, and name of the column.\n"
   ]
  },
  {
   "cell_type": "code",
   "execution_count": 55,
   "metadata": {},
   "outputs": [],
   "source": [
    "type(results['ra'])"
   ]
  },
  {
   "cell_type": "markdown",
   "metadata": {},
   "source": [
    "# The rows in the Table are numbered from 0 to n-1, where n is the number of rows. We can select the first row like this:"
   ]
  },
  {
   "cell_type": "code",
   "execution_count": 56,
   "metadata": {},
   "outputs": [],
   "source": [
    "results[0]   #As you might have guessed, the result is a Row object."
   ]
  },
  {
   "cell_type": "code",
   "execution_count": 57,
   "metadata": {},
   "outputs": [],
   "source": [
    "type(results[0])"
   ]
  },
  {
   "cell_type": "markdown",
   "metadata": {},
   "source": [
    "## Notice that the bracket operator selects both columns and rows. You might wonder how it knows which to select. If the expression in brackets is a string, it selects a column; if the expression is an integer, it selects a row.\n",
    "\n",
    "## If you apply the bracket operator twice, you can select a column and then an element from the column.\n"
   ]
  },
  {
   "cell_type": "code",
   "execution_count": 58,
   "metadata": {},
   "outputs": [],
   "source": [
    "results['ra'][0]"
   ]
  },
  {
   "cell_type": "markdown",
   "metadata": {},
   "source": [
    "## Or you can select a row and then an element from the row."
   ]
  },
  {
   "cell_type": "code",
   "execution_count": 59,
   "metadata": {},
   "outputs": [],
   "source": [
    "results[0]['ra']\n",
    "# You get the same result either way."
   ]
  },
  {
   "cell_type": "markdown",
   "metadata": {},
   "source": [
    "# Scatter plot\n",
    "To see what the results look like, we'll use a scatter plot. The library we'll use is Matplotlib, which is the most widely-used plotting library for Python. The Matplotlib interface is based on MATLAB (hence the name), so if you know MATLAB, some of it will be familiar.\n",
    "\n",
    "We'll import like this."
   ]
  },
  {
   "cell_type": "code",
   "execution_count": 60,
   "metadata": {},
   "outputs": [],
   "source": [
    "import matplotlib.pyplot as plt"
   ]
  },
  {
   "cell_type": "markdown",
   "metadata": {},
   "source": [
    "Pyplot is part of the Matplotlib library.  It is conventional to import it using the shortened name `plt`.\n",
    "\n",
    "In recent versions of Jupyter, plots appear \"inline\"; that is, they are part of the notebook.  In some older versions, plots appear in a new window.\n",
    "In that case, you might want to run the following Jupyter [magic command](https://ipython.readthedocs.io/en/stable/interactive/magics.html#magic-matplotlib) in a notebook cell:\n",
    "\n",
    "```\n",
    "%matplotlib inline\n",
    "```"
   ]
  },
  {
   "cell_type": "code",
   "execution_count": 61,
   "metadata": {},
   "outputs": [],
   "source": [
    "%matplotlib inline"
   ]
  },
  {
   "cell_type": "markdown",
   "metadata": {},
   "source": [
    "Pyplot provides two functions that can make scatterplots, plt.scatter and plt.plot.\n",
    "\n",
    "scatter is more versatile; for example, you can make every point in a scatter plot a different color.\n",
    "\n",
    "plot is more limited, but for simple cases, it can be substantially faster.\n",
    "\n",
    "Jake Vanderplas explains these differences in The Python Data Science Handbook.\n",
    "\n",
    "Since we are plotting more than 100,000 points and they are all the same size and color, we'll use plot.\n",
    "\n",
    "Here's a scatter plot with right ascension on the x-axis and declination on the y-axis, both ICRS coordinates in degrees."
   ]
  },
  {
   "cell_type": "code",
   "execution_count": 62,
   "metadata": {},
   "outputs": [],
   "source": [
    "x = results['ra']\n",
    "y = results['dec']\n",
    "plt.plot(x, y, 'ko')\n",
    "\n",
    "plt.xlabel('ra (degree ICRS)')\n",
    "plt.ylabel('dec (degree ICRS)');"
   ]
  },
  {
   "cell_type": "markdown",
   "metadata": {},
   "source": [
    "The arguments to plt.plot are x, y, and a string that specifies the style. In this case, the letters ko indicate that we want a black, round marker (k is for black because b is for blue). The functions xlabel and ylabel put labels on the axes.\n",
    "\n",
    "### However, this scatter plot has a problem. It is \"overplotted\", which means that there are so many overlapping points, we can't distinguish between high and low density areas.\n",
    "\n",
    "To fix this, we can provide optional arguments to control the size and transparency of the points.\n",
    "\n",
    "In the call to plt.plot, use the keyword argument markersize to make the markers smaller.\n",
    "\n",
    "Then add the keyword argument alpha to make the markers partly transparent.\n",
    "\n",
    "Adjust these arguments until you think the figure shows the data most clearly.\n"
   ]
  },
  {
   "cell_type": "code",
   "execution_count": 63,
   "metadata": {},
   "outputs": [],
   "source": [
    "x = results['ra']\n",
    "y = results['dec']\n",
    "\n",
    "plt.plot(x, y, 'ko', markersize=.1, alpha=0.5)\n",
    "\n",
    "plt.xlabel('ra (degree ICRS)')\n",
    "plt.ylabel('dec (degree ICRS)');"
   ]
  },
  {
   "cell_type": "markdown",
   "metadata": {},
   "source": [
    "Note: Once you have made these changes, you might notice that the figure shows stripes with lower density of stars.  These stripes are caused by the way Gaia scans the sky, which [you can read about here](https://www.cosmos.esa.int/web/gaia/scanning-law).  The dataset we are using, [Gaia Data Release 2](https://www.cosmos.esa.int/web/gaia/dr2), covers 22 months of observations; during this time, some parts of the sky were scanned more than others."
   ]
  },
  {
   "cell_type": "markdown",
   "metadata": {},
   "source": [
    "### Full tutorial can be accessed here: https://colab.research.google.com/github/AllenDowney/AstronomicalData/blob/main/03_motion.ipynb#scrollTo=rZeA0G9D_S3B"
   ]
  },
  {
   "cell_type": "raw",
   "metadata": {},
   "source": []
  },
  {
   "cell_type": "markdown",
   "metadata": {},
   "source": [
    "# Viewing and manipulating FITS images"
   ]
  },
  {
   "cell_type": "code",
   "execution_count": 64,
   "metadata": {
    "executionInfo": {
     "elapsed": 779,
     "status": "ok",
     "timestamp": 1653671838318,
     "user": {
      "displayName": "Lia Corrales",
      "userId": "03737332005355202815"
     },
     "user_tz": 240
    }
   },
   "outputs": [],
   "source": [
    "# Import Relevant Packages\n",
    "\n",
    "import numpy as np\n",
    "import matplotlib.pyplot as plt\n",
    "%matplotlib inline\n",
    "from astropy.io import fits"
   ]
  },
  {
   "cell_type": "markdown",
   "metadata": {},
   "source": [
    "Download the example FITS files (which contain the image data for the Horsehead Nebula) for this tutorial.\n",
    "\n",
    "First, we need to download the FITS file image for this tutorial. This is an astronomical image of the Horsehead Nebula taken with a photographic plate. The image has been digitized, that is, the image has been scanned by a computer and converted to a 2-D array. Each position in the array corresponds with the projected position on the sky, and bright areas of the image have high values and dark areas have low values in the array. \n",
    "\n",
    "Images taken with astronomical instruments called [CCDs or \"charge-coupled devices\"](https://en.wikipedia.org/wiki/Charge-coupled_device) are organized similarly. When illuminated by light, CCDs accumulate electrons, converting brightness values to electron counts. A CCD image is essentially a 2-D array, where each position on the array represents a single CCD pixel, and the values in that array represent the number of counts registered in that pixel."
   ]
  },
  {
   "cell_type": "code",
   "execution_count": 65,
   "metadata": {
    "executionInfo": {
     "elapsed": 334,
     "status": "ok",
     "timestamp": 1653671838648,
     "user": {
      "displayName": "Lia Corrales",
      "userId": "03737332005355202815"
     },
     "user_tz": 240
    }
   },
   "outputs": [],
   "source": [
    "from astropy.utils.data import download_file\n",
    "image_file = download_file('http://data.astropy.org/tutorials/FITS-images/HorseHead.fits', cache=True )"
   ]
  },
  {
   "cell_type": "code",
   "execution_count": 66,
   "metadata": {},
   "outputs": [],
   "source": [
    "type(image_file)\n",
    "results = Table.read(image_file)"
   ]
  },
  {
   "cell_type": "code",
   "execution_count": 67,
   "metadata": {},
   "outputs": [],
   "source": [
    "results"
   ]
  },
  {
   "cell_type": "markdown",
   "metadata": {},
   "source": [
    "## Opening FITS files and loading the image data"
   ]
  },
  {
   "cell_type": "markdown",
   "metadata": {},
   "source": [
    "Let's open the FITS file to find out what it contains."
   ]
  },
  {
   "cell_type": "code",
   "execution_count": 68,
   "metadata": {
    "executionInfo": {
     "elapsed": 175,
     "status": "ok",
     "timestamp": 1653671855938,
     "user": {
      "displayName": "Lia Corrales",
      "userId": "03737332005355202815"
     },
     "user_tz": 240
    }
   },
   "outputs": [],
   "source": [
    "hdu_list = fits.open(image_file)\n",
    "hdu_list.info()"
   ]
  },
  {
   "cell_type": "markdown",
   "metadata": {},
   "source": [
    "Generally, the image information is located in the <code>PRIMARY</code> block. The blocks are numbered and can be accessed by indexing <code>hdu_list</code>."
   ]
  },
  {
   "cell_type": "code",
   "execution_count": 69,
   "metadata": {},
   "outputs": [],
   "source": [
    "image_data = hdu_list[0].data\n",
    "image_data"
   ]
  },
  {
   "cell_type": "markdown",
   "metadata": {},
   "source": [
    "Our data is now stored as a 2D numpy array.  But how do we know the dimensions of the image?  We can look at the `shape` of the array."
   ]
  },
  {
   "cell_type": "code",
   "execution_count": 70,
   "metadata": {
    "executionInfo": {
     "elapsed": 438,
     "status": "ok",
     "timestamp": 1652815143130,
     "user": {
      "displayName": "Zihao Chen",
      "userId": "14808219351917480461"
     },
     "user_tz": 240
    }
   },
   "outputs": [],
   "source": [
    "print(type(image_data))\n",
    "print(image_data.shape)"
   ]
  },
  {
   "cell_type": "markdown",
   "metadata": {},
   "source": [
    "Great! At this point, we can close the FITS file because we've stored everything we wanted to a variable. By closing the FITS file, we can make sure that it won't continue using up excess memory or file handles on the computer."
   ]
  },
  {
   "cell_type": "code",
   "execution_count": 71,
   "metadata": {},
   "outputs": [],
   "source": [
    "hdu_list.close()"
   ]
  },
  {
   "cell_type": "markdown",
   "metadata": {},
   "source": [
    "### SHORTCUT\n",
    "\n",
    "If you don't need to examine the FITS header, you can call `fits.getdata` to bypass the previous steps."
   ]
  },
  {
   "cell_type": "code",
   "execution_count": 72,
   "metadata": {
    "executionInfo": {
     "elapsed": 189,
     "status": "ok",
     "timestamp": 1653672294190,
     "user": {
      "displayName": "Lia Corrales",
      "userId": "03737332005355202815"
     },
     "user_tz": 240
    }
   },
   "outputs": [],
   "source": [
    "image_data = fits.getdata(image_file)"
   ]
  },
  {
   "cell_type": "markdown",
   "metadata": {},
   "source": [
    "Note that the image data is held in a 2-D numpy array. We can also see the number of pixels in the image by printing the 2-D array shape. This shows us that the image is 893 x 891 pixels."
   ]
  },
  {
   "cell_type": "code",
   "execution_count": 73,
   "metadata": {
    "executionInfo": {
     "elapsed": 4,
     "status": "ok",
     "timestamp": 1653672294680,
     "user": {
      "displayName": "Lia Corrales",
      "userId": "03737332005355202815"
     },
     "user_tz": 240
    }
   },
   "outputs": [],
   "source": [
    "print(type(image_data)) # Show the Python type for image_data\n",
    "print(image_data.shape) # Show the number of pixels per side in the 2-D image"
   ]
  },
  {
   "cell_type": "markdown",
   "metadata": {},
   "source": [
    "## Viewing the image data and getting basic statistics"
   ]
  },
  {
   "cell_type": "code",
   "execution_count": 74,
   "metadata": {
    "executionInfo": {
     "elapsed": 714,
     "status": "ok",
     "timestamp": 1652815243367,
     "user": {
      "displayName": "Zihao Chen",
      "userId": "14808219351917480461"
     },
     "user_tz": 240
    }
   },
   "outputs": [],
   "source": [
    "plt.imshow(image_data, cmap='gray')\n",
    "plt.colorbar()\n",
    "\n",
    "# To see more color maps\n",
    "# http://wiki.scipy.org/Cookbook/Matplotlib/Show_colormaps"
   ]
  },
  {
   "cell_type": "code",
   "execution_count": 75,
   "metadata": {},
   "outputs": [],
   "source": [
    "plt.imshow(image_data, cmap='magma')\n",
    "plt.colorbar()"
   ]
  },
  {
   "cell_type": "markdown",
   "metadata": {},
   "source": [
    "### Displaying the image with a logarithmic scale\n",
    "\n",
    "What if we want to use a logarithmic color scale? To do so, we'll need to load the `LogNorm` object from `matplotlib`."
   ]
  },
  {
   "cell_type": "code",
   "execution_count": 76,
   "metadata": {
    "executionInfo": {
     "elapsed": 899,
     "status": "ok",
     "timestamp": 1652815873011,
     "user": {
      "displayName": "Zihao Chen",
      "userId": "14808219351917480461"
     },
     "user_tz": 240
    }
   },
   "outputs": [],
   "source": [
    "from matplotlib.colors import LogNorm\n",
    "plt.imshow(image_data, cmap='magma', norm=LogNorm())\n",
    "\n",
    "# I chose the tick marks based on the histogram above\n",
    "cbar = plt.colorbar(ticks=[5.e3,1.e4,2.e4])\n",
    "cbar.ax.set_yticklabels(['5,000','10,000','20,000'])"
   ]
  },
  {
   "cell_type": "markdown",
   "metadata": {},
   "source": [
    "Let's get some basic statistics about our image:"
   ]
  },
  {
   "cell_type": "code",
   "execution_count": 77,
   "metadata": {
    "executionInfo": {
     "elapsed": 123,
     "status": "ok",
     "timestamp": 1652815312840,
     "user": {
      "displayName": "Zihao Chen",
      "userId": "14808219351917480461"
     },
     "user_tz": 240
    }
   },
   "outputs": [],
   "source": [
    "print('Min:', np.min(image_data))\n",
    "print('Max:', np.max(image_data))\n",
    "print('Mean:', np.mean(image_data))\n",
    "print('Stdev:', np.std(image_data))"
   ]
  },
  {
   "cell_type": "markdown",
   "metadata": {},
   "source": [
    "## Basic image math: image stacking"
   ]
  },
  {
   "cell_type": "markdown",
   "metadata": {},
   "source": [
    "You can also perform math with the image data like any other numpy array.  In this particular example, we'll stack several images of M13 taken with a ~10'' telescope."
   ]
  },
  {
   "cell_type": "markdown",
   "metadata": {},
   "source": [
    "Let's start by opening a series of FITS files and store the data in a list, which we've named `image_concat`."
   ]
  },
  {
   "cell_type": "code",
   "execution_count": null,
   "metadata": {},
   "outputs": [],
   "source": [
    "base_url = 'http://data.astropy.org/tutorials/FITS-images/M13_blue_{0:04d}.fits'\n",
    "\n",
    "image_list = [download_file(base_url.format(n), cache=True) \n",
    "              for n in range(1, 5+1)]\n",
    "image_concat = [fits.getdata(image) for image in image_list]"
   ]
  },
  {
   "cell_type": "code",
   "execution_count": null,
   "metadata": {},
   "outputs": [],
   "source": [
    "image_list"
   ]
  },
  {
   "cell_type": "code",
   "execution_count": null,
   "metadata": {},
   "outputs": [],
   "source": [
    "np.shape(image_concat)"
   ]
  },
  {
   "cell_type": "markdown",
   "metadata": {},
   "source": [
    "Now we'll stack the images by summing the concatenated list."
   ]
  },
  {
   "cell_type": "code",
   "execution_count": null,
   "metadata": {},
   "outputs": [],
   "source": [
    "final_image = np.sum(image_concat, axis=0)\n",
    "final_image"
   ]
  },
  {
   "cell_type": "markdown",
   "metadata": {},
   "source": [
    "We're going to show the image, but need to decide on the best stretch. To do so let's plot a histogram of the data."
   ]
  },
  {
   "cell_type": "code",
   "execution_count": null,
   "metadata": {
    "executionInfo": {
     "elapsed": 4524,
     "status": "ok",
     "timestamp": 1652816162002,
     "user": {
      "displayName": "Zihao Chen",
      "userId": "14808219351917480461"
     },
     "user_tz": 240
    }
   },
   "outputs": [],
   "source": [
    "image_hist = plt.hist(final_image.flatten(), bins='auto')"
   ]
  },
  {
   "cell_type": "markdown",
   "metadata": {},
   "source": [
    "We'll use the keywords `vmin` and `vmax` to set limits on the color scaling for `imshow`. By setting limits according to the histogram above, we are able to generate image with more distinct color distribution."
   ]
  },
  {
   "cell_type": "code",
   "execution_count": null,
   "metadata": {
    "executionInfo": {
     "elapsed": 1175,
     "status": "ok",
     "timestamp": 1652816281973,
     "user": {
      "displayName": "Zihao Chen",
      "userId": "14808219351917480461"
     },
     "user_tz": 240
    }
   },
   "outputs": [],
   "source": [
    "plt.imshow(final_image, cmap='gray', vmin=2.2E3, vmax=2.9E3)\n",
    "plt.colorbar()"
   ]
  },
  {
   "cell_type": "markdown",
   "metadata": {},
   "source": [
    "## Writing image data to a FITS file"
   ]
  },
  {
   "cell_type": "markdown",
   "metadata": {},
   "source": [
    "We can do this with the `writeto()` method."
   ]
  },
  {
   "cell_type": "markdown",
   "metadata": {},
   "source": [
    "Warning: you'll receive an error if the file you are trying to write already exists.  That's why we've set `overwrite=True`."
   ]
  },
  {
   "cell_type": "code",
   "execution_count": null,
   "metadata": {},
   "outputs": [],
   "source": [
    "outfile = 'stacked_M13_blue.fits'\n",
    "\n",
    "hdu = fits.PrimaryHDU(final_image)\n",
    "hdu.writeto(outfile, overwrite=True)"
   ]
  },
  {
   "cell_type": "markdown",
   "metadata": {},
   "source": [
    "# Thanks for your attention. Though the session ends here, learning remains a continuous process. Hope this boosts your interest in utilizing Python Programming Language for Astronomical works."
   ]
  },
  {
   "cell_type": "markdown",
   "metadata": {},
   "source": [
    "<hr />\n",
    "\n",
    "# Other Areas To Explore\n",
    "\n",
    "<ul>\n",
    "    <li> Image Processing </li>\n",
    "    <li> Light Curve Analysis </li>\n",
    "    <li> Spectral Analysis </li>\n",
    "    <li> Machine Learning and Classification </li>\n",
    "    <li> Simulation and Modeling </li>\n",
    "    <li> Citizen Science </li>\n",
    "    <li> Astronomy Education and Outreach </li>\n",
    "    \n",
    "    \n",
    "</ul>\n"
   ]
  }
 ],
 "metadata": {
  "astropy-tutorials": {
   "author": "Lia R. Corrales <lia@astro.columbia.edu>",
   "date": "January 2014",
   "description": "Demonstrates use of astropy.utils.data to download data; astropy.io.fits to open the file; matplotlib to view the image with different color scales and stretches and to make histrograms. Also includes method for simple image stacking.",
   "link_name": "Viewing and manipulating FITS images",
   "name": "",
   "published": true
  },
  "kernelspec": {
   "display_name": "Python 3 (ipykernel)",
   "language": "python",
   "name": "python3"
  },
  "language_info": {
   "codemirror_mode": {
    "name": "ipython",
    "version": 3
   },
   "file_extension": ".py",
   "mimetype": "text/x-python",
   "name": "python",
   "nbconvert_exporter": "python",
   "pygments_lexer": "ipython3",
   "version": "3.10.10"
  }
 },
 "nbformat": 4,
 "nbformat_minor": 4
}
